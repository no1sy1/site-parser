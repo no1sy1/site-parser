{
 "cells": [
  {
   "cell_type": "code",
   "execution_count": null,
   "metadata": {
    "collapsed": true,
    "pycharm": {
     "is_executing": true
    }
   },
   "outputs": [],
   "source": [
    "# импортируем библиотеки\n",
    "import requests\n",
    "from bs4 import BeautifulSoup\n",
    "import csv\n",
    "import xml.etree.ElementTree as ET"
   ]
  },
  {
   "cell_type": "code",
   "execution_count": null,
   "outputs": [],
   "source": [
    "# создание переменных\n",
    "XML = \"books.xml\"\n",
    "CSV = \"books.csv\"\n",
    "URL = 'https://book24.ru'\n",
    "HEADERS = {\n",
    "    \"accept\": \"text/html,application/xhtml+xml,application/xml;q=0.9,image/avif,image/webp,image/apng,*/*;q=0.8,application/signed-exchange;v=b3;q=0.9\",\n",
    "    \"user-agent\": \"Mozilla/5.0 (Windows NT 10.0; Win64; x64) AppleWebKit/537.36 (KHTML, like Gecko) Chrome/100.0.4896.127 Safari/537.36 OPR/86.0.4363.64\"\n",
    "}"
   ],
   "metadata": {
    "collapsed": false
   }
  },
  {
   "cell_type": "code",
   "execution_count": null,
   "outputs": [],
   "source": [
    "# открытие ссылки\n",
    "def get_html(url):\n",
    "    r = requests.get(url, headers=HEADERS)\n",
    "    return r"
   ],
   "metadata": {
    "collapsed": false
   }
  },
  {
   "cell_type": "code",
   "execution_count": null,
   "outputs": [],
   "source": [
    "# достаем контент\n",
    "def get_content(html):\n",
    "    soup = BeautifulSoup(html, \"html.parser\")\n",
    "    items = soup.find_all(\"div\", class_=\"embla-slide-product shelf-products__item\")\n",
    "    cards = []\n",
    "\n",
    "    for item in items:\n",
    "        cards.append(\n",
    "            {\n",
    "                \"title\": item.find('div', class_='product-card__content').get_text(strip=True),\n",
    "                \"author\": item.find('div', class_=\"author-list product-card__authors-holder\").get_text(strip=True)\n",
    "            }\n",
    "        )\n",
    "    return cards"
   ],
   "metadata": {
    "collapsed": false
   }
  },
  {
   "cell_type": "code",
   "execution_count": null,
   "outputs": [],
   "source": [
    "html = get_html(URL)\n",
    "print(get_content(html.text))"
   ],
   "metadata": {
    "collapsed": false
   }
  },
  {
   "cell_type": "code",
   "execution_count": null,
   "outputs": [],
   "source": [
    "# сохранение в csv файл\n",
    "def save_csv(items, path):\n",
    "    with open(path, \"w\", newline='') as file:\n",
    "        writer = csv.writer(file, delimiter=\";\")\n",
    "        writer.writerow(['Название книг', 'Автор'])\n",
    "        for item in items:\n",
    "            writer.writerow([item['title'], item['author']])"
   ],
   "metadata": {
    "collapsed": false
   }
  },
  {
   "cell_type": "code",
   "execution_count": null,
   "outputs": [],
   "source": [
    "# сохранение в xml файл\n",
    "def save_xml(items, path):\n",
    "    root = ET.Element('books')\n",
    "    for i, item in enumerate(items, 1):\n",
    "        person = ET.SubElement(root, 'person' + str(i))\n",
    "        ET.SubElement(person, 'title').text = item['title']\n",
    "        ET.SubElement(person, 'author').text = item['author']\n",
    "    tree = ET.ElementTree(root)\n",
    "    tree.write(path)"
   ],
   "metadata": {
    "collapsed": false
   }
  },
  {
   "cell_type": "code",
   "execution_count": null,
   "outputs": [],
   "source": [
    "# основная функция\n",
    "def parser():\n",
    "    html = get_html(URL)\n",
    "    if html.status_code == 200:\n",
    "        cards = []\n",
    "        for page in range(1):\n",
    "            if cards is not None:\n",
    "                html = get_html(URL)\n",
    "                cards.extend(get_content(html.text))\n",
    "                save_csv(cards, CSV)\n",
    "                save_xml(cards, XML)\n",
    "    else:\n",
    "        print(\"Error\")"
   ],
   "metadata": {
    "collapsed": false
   }
  },
  {
   "cell_type": "code",
   "execution_count": null,
   "outputs": [],
   "source": [
    "# запуск программы\n",
    "parser()"
   ],
   "metadata": {
    "collapsed": false
   }
  }
 ],
 "metadata": {
  "kernelspec": {
   "display_name": "Python 3",
   "language": "python",
   "name": "python3"
  },
  "language_info": {
   "codemirror_mode": {
    "name": "ipython",
    "version": 2
   },
   "file_extension": ".py",
   "mimetype": "text/x-python",
   "name": "python",
   "nbconvert_exporter": "python",
   "pygments_lexer": "ipython2",
   "version": "2.7.6"
  }
 },
 "nbformat": 4,
 "nbformat_minor": 0
}
